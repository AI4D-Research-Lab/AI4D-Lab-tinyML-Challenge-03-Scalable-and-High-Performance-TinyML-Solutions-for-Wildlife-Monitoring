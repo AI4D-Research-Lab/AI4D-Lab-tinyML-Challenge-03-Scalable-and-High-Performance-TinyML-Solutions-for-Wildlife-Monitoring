{
 "cells": [
  {
   "cell_type": "code",
   "execution_count": 4,
   "id": "97b79489",
   "metadata": {},
   "outputs": [],
   "source": [
    "import os\n",
    "\n",
    "# Enable MPS for the Python process\n",
    "os.environ['TF_MPS'] = '1'"
   ]
  },
  {
   "cell_type": "code",
   "execution_count": 5,
   "id": "27863080",
   "metadata": {
    "scrolled": false
   },
   "outputs": [],
   "source": [
    "import numpy as np\n",
    "import tensorflow as tf\n",
    "from tensorflow.keras.preprocessing.image import ImageDataGenerator\n",
    "from tensorflow.keras.applications import InceptionV3\n",
    "from tensorflow.keras import layers, Model\n",
    "from sklearn.model_selection import train_test_split\n",
    "from matplotlib import pyplot as plt\n",
    "import seaborn\n",
    "from sklearn.metrics import f1_score, classification_report,confusion_matrix\n",
    "import uuid\n",
    "from carbontracker.tracker import CarbonTracker\n",
    "from codecarbon import track_emissions"
   ]
  },
  {
   "cell_type": "code",
   "execution_count": 6,
   "id": "e5e9488b",
   "metadata": {},
   "outputs": [],
   "source": [
    "# Define data directories\n",
    "data_dir = '../data/'  "
   ]
  },
  {
   "cell_type": "code",
   "execution_count": 7,
   "id": "be6f68d8",
   "metadata": {},
   "outputs": [],
   "source": [
    "\n",
    "# Define the class names\n",
    "class_names = ['buffalo','eland', 'elephant','giraffe','hyaenabrown','impala','leopard','lion','rhino', 'zebra']"
   ]
  },
  {
   "cell_type": "code",
   "execution_count": 8,
   "id": "3daf61a3",
   "metadata": {
    "scrolled": true
   },
   "outputs": [
    {
     "name": "stdout",
     "output_type": "stream",
     "text": [
      "Found 56446 images belonging to 10 classes.\n"
     ]
    }
   ],
   "source": [
    "# Define data augmentation for training images\n",
    "train_datagen = ImageDataGenerator(\n",
    "    rescale=1.0 / 255.0,\n",
    "    rotation_range=20,\n",
    "    width_shift_range=0.2,\n",
    "    height_shift_range=0.2,\n",
    "    horizontal_flip=True,\n",
    "    validation_split=0.2,\n",
    "    zoom_range=0.2,\n",
    ")\n",
    "\n",
    "# Load and preprocess training data\n",
    "train_data = train_datagen.flow_from_directory(\n",
    "    data_dir,\n",
    "    target_size=(299, 299),  # InceptionV3 input size\n",
    "    batch_size=64,\n",
    "    class_mode='categorical',\n",
    "    classes=class_names,\n",
    "    subset='training',\n",
    "    shuffle=True,\n",
    "    seed=42,\n",
    ")"
   ]
  },
  {
   "cell_type": "code",
   "execution_count": 9,
   "id": "2702b3af",
   "metadata": {},
   "outputs": [
    {
     "name": "stdout",
     "output_type": "stream",
     "text": [
      "Found 14106 images belonging to 10 classes.\n"
     ]
    }
   ],
   "source": [
    "# Load and preprocess test data\n",
    "valid_datagen = ImageDataGenerator(\n",
    "    rescale=1.0 / 255.0,\n",
    "    validation_split=0.2                 \n",
    ")\n",
    "valid_data = valid_datagen.flow_from_directory(\n",
    "    data_dir,\n",
    "    target_size=(299, 299),  # InceptionV3 input size\n",
    "    batch_size=64,\n",
    "    class_mode='categorical',\n",
    "    classes=class_names,\n",
    "    subset='validation',\n",
    "    shuffle=False,\n",
    ")"
   ]
  },
  {
   "cell_type": "code",
   "execution_count": 10,
   "id": "87679e88",
   "metadata": {
    "scrolled": false
   },
   "outputs": [],
   "source": [
    "# Create the base model with pre-trained weights (InceptionV3)\n",
    "base_model = InceptionV3(\n",
    "    include_top=False,\n",
    "    weights='imagenet',\n",
    "    input_tensor=None,\n",
    "    input_shape=(299, 299, 3),\n",
    "    pooling='avg',\n",
    "    classifier_activation='softmax',\n",
    ")\n",
    "\n",
    "# Add custom classification layers on top of the base model\n",
    "x = base_model.output\n",
    "x = layers.Dense(128, activation='relu')(x)\n",
    "x = layers.Dropout(0.5)(x)\n",
    "predictions = layers.Dense(len(class_names), activation='softmax')(x)\n",
    "\n",
    "# Create the full model\n",
    "model = Model(inputs=base_model.input, outputs=predictions)\n",
    "\n",
    "# Compile the model\n",
    "model.compile(optimizer='adam', loss='categorical_crossentropy', metrics=['accuracy'])\n",
    "\n",
    "# Train the model\n",
    "num_epochs = 2"
   ]
  },
  {
   "cell_type": "code",
   "execution_count": 11,
   "id": "bee49f4d",
   "metadata": {},
   "outputs": [],
   "source": [
    "@track_emissions()\n",
    "def training(train_data,epochs,validation_data):\n",
    "    return model.fit(train_data, epochs=num_epochs, validation_data=valid_data)"
   ]
  },
  {
   "cell_type": "code",
   "execution_count": null,
   "id": "fe97edf1",
   "metadata": {},
   "outputs": [],
   "source": [
    "history = training(train_data=train_data,epochs=num_epochs,validation_data=valid_data)"
   ]
  },
  {
   "cell_type": "code",
   "execution_count": null,
   "id": "8f93f4bd",
   "metadata": {
    "scrolled": false
   },
   "outputs": [],
   "source": [
    "# Get the number of epochs\n",
    "epochs = len(history.history['accuracy'])\n",
    "\n",
    "# Plot training & validation accuracy values\n",
    "plt.figure(figsize=(12, 5))\n",
    "plt.subplot(1, 2, 1)\n",
    "plt.plot(range(1, epochs + 1), history.history['accuracy'])\n",
    "plt.plot(range(1, epochs + 1), history.history['val_accuracy'])\n",
    "plt.title('Model Accuracy')\n",
    "plt.xlabel('Epoch')\n",
    "plt.ylabel('Accuracy')\n",
    "plt.legend(['Train', 'Validation'], loc='upper left')\n",
    "\n",
    "# Plot training & validation loss values\n",
    "plt.subplot(1, 2, 2)\n",
    "plt.plot(range(1, epochs + 1), history.history['loss'])\n",
    "plt.plot(range(1, epochs + 1), history.history['val_loss'])\n",
    "plt.title('Model Loss')\n",
    "plt.xlabel('Epoch')\n",
    "plt.ylabel('Loss')\n",
    "plt.legend(['Train', 'Validation'], loc='upper left')\n",
    "\n",
    "plt.tight_layout()\n",
    "plt.show()"
   ]
  },
  {
   "cell_type": "code",
   "execution_count": null,
   "id": "015ae5c9",
   "metadata": {},
   "outputs": [],
   "source": [
    "# Evaluate the model\n",
    "valid_data.reset()\n",
    "y_pred = model.predict(valid_data, steps=np.ceil(valid_data.samples / 64))\n",
    "y_true = valid_data.classes\n",
    "\n",
    "f1 = f1_score(y_true, np.argmax(y_pred, axis=1), average='weighted')\n",
    "print(f\"F1 Score : {f1}\")"
   ]
  },
  {
   "cell_type": "code",
   "execution_count": 12,
   "id": "afb263ca",
   "metadata": {
    "scrolled": true
   },
   "outputs": [
    {
     "name": "stdout",
     "output_type": "stream",
     "text": [
      "Classification Report:\n",
      "              precision    recall  f1-score   support\n",
      "\n",
      "           0       0.32      0.03      0.05       647\n",
      "           1       0.72      0.13      0.22       718\n",
      "           2       0.43      0.90      0.58      1485\n",
      "           3       0.99      0.77      0.86      1124\n",
      "           4       1.00      0.28      0.43       599\n",
      "           5       0.85      0.96      0.90      5903\n",
      "           6       0.36      0.80      0.49       230\n",
      "           7       0.77      0.10      0.18       196\n",
      "           8       0.57      0.18      0.27       814\n",
      "           9       0.96      0.92      0.94      2390\n",
      "\n",
      "    accuracy                           0.76     14106\n",
      "   macro avg       0.70      0.51      0.49     14106\n",
      "weighted avg       0.79      0.76      0.72     14106\n",
      "\n"
     ]
    }
   ],
   "source": [
    "print(\"Classification Report:\")\n",
    "print(classification_report(y_true, np.argmax(y_pred, axis=1)))"
   ]
  },
  {
   "cell_type": "code",
   "execution_count": 13,
   "id": "3f82d2dd",
   "metadata": {},
   "outputs": [],
   "source": [
    "confusion = confusion_matrix(y_true, np.argmax(y_pred, axis=1))"
   ]
  },
  {
   "cell_type": "code",
   "execution_count": 14,
   "id": "961c2264",
   "metadata": {},
   "outputs": [
    {
     "data": {
      "image/png": "[encoded data removed]",
      "text/plain": [
       "<Figure size 640x480 with 2 Axes>"
      ]
     },
     "metadata": {},
     "output_type": "display_data"
    }
   ],
   "source": [
    "seaborn.heatmap(confusion, cmap='Greens', annot=True)\n",
    "plt.show()"
   ]
  },
  {
   "cell_type": "code",
   "execution_count": 15,
   "id": "7a97019c",
   "metadata": {},
   "outputs": [
    {
     "name": "stderr",
     "output_type": "stream",
     "text": [
      "/opt/homebrew/lib/python3.11/site-packages/keras/src/engine/training.py:3000: UserWarning: You are saving your model as an HDF5 file via `model.save()`. This file format is considered legacy. We recommend using instead the native Keras format, e.g. `model.save('my_model.keras')`.\n",
      "  saving_api.save_model(\n"
     ]
    }
   ],
   "source": [
    "model.save('../models/tinyml.h5')"
   ]
  },
  {
   "cell_type": "code",
   "execution_count": 16,
   "id": "b30678d2",
   "metadata": {
    "scrolled": true
   },
   "outputs": [
    {
     "name": "stdout",
     "output_type": "stream",
     "text": [
      "INFO:tensorflow:Assets written to: /var/folders/vq/g110rjmd53bg177m6tkp18d00000gn/T/tmpo85472s3/assets\n"
     ]
    },
    {
     "name": "stderr",
     "output_type": "stream",
     "text": [
      "INFO:tensorflow:Assets written to: /var/folders/vq/g110rjmd53bg177m6tkp18d00000gn/T/tmpo85472s3/assets\n",
      "2023-11-25 00:31:48.254398: W tensorflow/compiler/mlir/lite/python/tf_tfl_flatbuffer_helpers.cc:364] Ignored output_format.\n",
      "2023-11-25 00:31:48.254542: W tensorflow/compiler/mlir/lite/python/tf_tfl_flatbuffer_helpers.cc:367] Ignored drop_control_dependency.\n"
     ]
    }
   ],
   "source": [
    "# Save the model in TensorFlow Lite format\n",
    "tflite_model_path = '../models/tinyml_model.tflite'\n",
    "converter = tf.lite.TFLiteConverter.from_keras_model(model)\n",
    "tflite_model = converter.convert()\n",
    "with open(tflite_model_path, 'wb') as f:\n",
    "    f.write(tflite_model)"
   ]
  },
  {
   "cell_type": "code",
   "execution_count": 17,
   "id": "eb057650",
   "metadata": {},
   "outputs": [],
   "source": [
    "test_dir = '../../dataset/some_data/'"
   ]
  },
  {
   "cell_type": "code",
   "execution_count": 18,
   "id": "e7be07de",
   "metadata": {},
   "outputs": [],
   "source": [
    "# Initialize lists to store image paths and labels\n",
    "test_images = []\n",
    "test_labels = []\n",
    "\n",
    "# Loop through class names and corresponding directories\n",
    "for class_name in class_names:\n",
    "    class_dir = os.path.join(test_dir, class_name)\n",
    "    class_images = os.listdir(class_dir)\n",
    "    num_images = len(class_images)\n",
    "\n",
    "    for image_filename in class_images:\n",
    "        image_path = os.path.join(class_dir, image_filename)\n",
    "        label = class_names.index(class_name)\n",
    "\n",
    "        test_images.append(image_path)\n",
    "        test_labels.append(label)"
   ]
  },
  {
   "cell_type": "code",
   "execution_count": 19,
   "id": "32947667",
   "metadata": {
    "scrolled": false
   },
   "outputs": [
    {
     "name": "stderr",
     "output_type": "stream",
     "text": [
      "INFO: Created TensorFlow Lite XNNPACK delegate for CPU.\n"
     ]
    }
   ],
   "source": [
    "# Load the TFLite model\\\n",
    "tflite_model_path = '../models/tinyml_model.tflite'\n",
    "interpreter = tf.lite.Interpreter(model_path=tflite_model_path)\n",
    "interpreter.allocate_tensors()\n",
    "input_details = interpreter.get_input_details()\n",
    "output_details = interpreter.get_output_details()"
   ]
  },
  {
   "cell_type": "code",
   "execution_count": 20,
   "id": "f9cf265b",
   "metadata": {},
   "outputs": [],
   "source": [
    "# Perform inference on a sample image\n",
    "sample_image = tf.keras.preprocessing.image.load_img(\n",
    "    test_images[20], target_size=(299, 299)\n",
    ")"
   ]
  },
  {
   "cell_type": "code",
   "execution_count": 21,
   "id": "02d306bb",
   "metadata": {},
   "outputs": [],
   "source": [
    "sample_image = tf.keras.preprocessing.image.img_to_array(sample_image)\n",
    "sample_image = np.expand_dims(sample_image, axis=0).astype(np.float32)\n",
    "interpreter.set_tensor(input_details[0]['index'], sample_image)\n",
    "interpreter.invoke()\n",
    "output = interpreter.get_tensor(output_details[0]['index'])\n",
    "predicted_class = np.argmax(output)"
   ]
  },
  {
   "cell_type": "code",
   "execution_count": 22,
   "id": "73eda991",
   "metadata": {
    "scrolled": false
   },
   "outputs": [
    {
     "data": {
      "text/plain": [
       "6"
      ]
     },
     "execution_count": 22,
     "metadata": {},
     "output_type": "execute_result"
    }
   ],
   "source": [
    "predicted_class"
   ]
  },
  {
   "cell_type": "code",
   "execution_count": null,
   "id": "5fe20cad",
   "metadata": {},
   "outputs": [],
   "source": [
    "# Map the predicted class to the class name\n",
    "predicted_class_name = class_names[predicted_class]\n",
    "\n",
    "print(f\"Predicted Class: {predicted_class_name}\")\n"
   ]
  },
  {
   "cell_type": "code",
   "execution_count": null,
   "id": "a8ea1128",
   "metadata": {},
   "outputs": [],
   "source": [
    "#Compare the predicted label to actual label\n",
    "print(f\"Actual Class: {class_names[test_labels[20]]}\")"
   ]
  },
  {
   "cell_type": "code",
   "execution_count": 13,
   "id": "bd78bcb4",
   "metadata": {},
   "outputs": [],
   "source": [
    "model = tf.keras.models.load_model('../models/tinyml.h5')"
   ]
  },
  {
   "cell_type": "code",
   "execution_count": 18,
   "id": "863b43d8",
   "metadata": {},
   "outputs": [
    {
     "name": "stdout",
     "output_type": "stream",
     "text": [
      "INFO:tensorflow:Assets written to: /var/folders/vq/g110rjmd53bg177m6tkp18d00000gn/T/tmpdysckty_/assets\n"
     ]
    },
    {
     "name": "stderr",
     "output_type": "stream",
     "text": [
      "INFO:tensorflow:Assets written to: /var/folders/vq/g110rjmd53bg177m6tkp18d00000gn/T/tmpdysckty_/assets\n",
      "/opt/homebrew/lib/python3.11/site-packages/tensorflow/lite/python/convert.py:887: UserWarning: Statistics for quantized inputs were expected, but not specified; continuing anyway.\n",
      "  warnings.warn(\n",
      "2023-11-25 08:36:03.605847: W tensorflow/compiler/mlir/lite/python/tf_tfl_flatbuffer_helpers.cc:364] Ignored output_format.\n",
      "2023-11-25 08:36:03.605877: W tensorflow/compiler/mlir/lite/python/tf_tfl_flatbuffer_helpers.cc:367] Ignored drop_control_dependency.\n",
      "fully_quantize: 0, inference_type: 6, input_inference_type: INT8, output_inference_type: INT8\n"
     ]
    },
    {
     "data": {
      "text/plain": [
       "22557464"
      ]
     },
     "execution_count": 18,
     "metadata": {},
     "output_type": "execute_result"
    }
   ],
   "source": [
    " def representative_dataset_gen():\n",
    "    for i in range(20):\n",
    "        data_x, data_y = valid_data.next()\n",
    "        for data_xx in data_x:\n",
    "            data = tf.reshape(data_xx, shape=[-1, 299, 299, 3])\n",
    "            yield [data]\n",
    "converter = tf.lite.TFLiteConverter.from_keras_model(model)\n",
    "converter.optimizations = [tf.lite.Optimize.DEFAULT]\n",
    "converter.representative_dataset = representative_dataset_gen\n",
    "converter.target_spec.supported_ops =[tf.lite.OpsSet.TFLITE_BUILTINS_INT8]\n",
    "converter.inference_input_type  = tf.int8\n",
    "converter.inference_output_type = tf.int8\n",
    "quantized_model = converter.convert()\n",
    "open(\"../models/tinyml_model_quant.tflite\", \"wb\").write(quantized_model)"
   ]
  },
  {
   "cell_type": "code",
   "execution_count": 19,
   "id": "4ecfef1e",
   "metadata": {},
   "outputs": [
    {
     "name": "stdout",
     "output_type": "stream",
     "text": [
      "input:  <class 'numpy.int8'>\n",
      "output:  <class 'numpy.int8'>\n"
     ]
    }
   ],
   "source": [
    "interpreter = tf.lite.Interpreter(model_content=quantized_model)\n",
    "input_type = interpreter.get_input_details()[0]['dtype']\n",
    "print('input: ', input_type)\n",
    "output_type = interpreter.get_output_details()[0]['dtype']\n",
    "print('output: ', output_type)"
   ]
  },
  {
   "cell_type": "code",
   "execution_count": null,
   "id": "e6fbe2f3",
   "metadata": {},
   "outputs": [],
   "source": []
  }
 ],
 "metadata": {
  "kernelspec": {
   "display_name": "Python 3 (ipykernel)",
   "language": "python",
   "name": "python3"
  },
  "language_info": {
   "codemirror_mode": {
    "name": "ipython",
    "version": 3
   },
   "file_extension": ".py",
   "mimetype": "text/x-python",
   "name": "python",
   "nbconvert_exporter": "python",
   "pygments_lexer": "ipython3",
   "version": "3.11.4"
  }
 },
 "nbformat": 4,
 "nbformat_minor": 5
}
